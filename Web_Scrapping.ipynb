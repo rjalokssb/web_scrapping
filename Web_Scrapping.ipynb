{
  "nbformat": 4,
  "nbformat_minor": 0,
  "metadata": {
    "colab": {
      "provenance": []
    },
    "kernelspec": {
      "name": "python3",
      "display_name": "Python 3"
    },
    "language_info": {
      "name": "python"
    }
  },
  "cells": [
    {
      "cell_type": "markdown",
      "source": [
        "Q1. What is Web Scraping? Why is it Used? Give three areas where Web Scraping is used to get data."
      ],
      "metadata": {
        "id": "wPx0k_f-KyYV"
      }
    },
    {
      "cell_type": "code",
      "execution_count": null,
      "metadata": {
        "id": "cX1577axKvCT"
      },
      "outputs": [],
      "source": [
        "# Web scraping is the process of extracting data from websites using automated software or tools. It involves retrieving information from web pages and converting it into a structured format that can be analyzed or used for various purposes.\n",
        "# Data mining\n",
        "# Lead generation\n",
        "# "
      ]
    },
    {
      "cell_type": "code",
      "source": [
        "# E-commerce\n",
        "# Social media\n",
        "# Job listings"
      ],
      "metadata": {
        "id": "fi4VSQpZLUbP"
      },
      "execution_count": null,
      "outputs": []
    },
    {
      "cell_type": "markdown",
      "source": [
        "Q2. What are the different methods used for Web Scraping?"
      ],
      "metadata": {
        "id": "VO-uJ1MYKzbC"
      }
    },
    {
      "cell_type": "code",
      "source": [
        "# Parsing HTML\n",
        "# Using API\n",
        "# Automated tools"
      ],
      "metadata": {
        "id": "eDTG8bvqK1XS"
      },
      "execution_count": null,
      "outputs": []
    },
    {
      "cell_type": "markdown",
      "source": [
        "Q3. What is Beautiful Soup? Why is it used?"
      ],
      "metadata": {
        "id": "feYF-QEnK1kK"
      }
    },
    {
      "cell_type": "code",
      "source": [
        "# Beautiful Soup is a Python library used for parsing HTML and XML documents. It is a popular web scraping library that makes it easy to extract data from HTML pages, navigate the HTML tree structure, and search for specific elements based on their tags, attributes, or content."
      ],
      "metadata": {
        "id": "IGIxWInzK3VL"
      },
      "execution_count": null,
      "outputs": []
    },
    {
      "cell_type": "markdown",
      "source": [
        "Q4. Why is flask used in this Web Scraping project?"
      ],
      "metadata": {
        "id": "kHIRKFqoK30C"
      }
    },
    {
      "cell_type": "code",
      "source": [
        "# Build a web interface\n",
        "# Serve the scraped data via an API\n",
        "# Automate "
      ],
      "metadata": {
        "id": "XYH5tFl4K5pT"
      },
      "execution_count": null,
      "outputs": []
    },
    {
      "cell_type": "markdown",
      "source": [
        "Q5. Write the names of AWS services used in this project. Also, explain the use of each service."
      ],
      "metadata": {
        "id": "BvXmXEAYK55T"
      }
    },
    {
      "cell_type": "code",
      "source": [
        "# Elastic beanstalk"
      ],
      "metadata": {
        "id": "Lvwa08pvK72j"
      },
      "execution_count": null,
      "outputs": []
    }
  ]
}